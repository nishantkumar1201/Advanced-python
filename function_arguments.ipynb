{
  "nbformat": 4,
  "nbformat_minor": 0,
  "metadata": {
    "colab": {
      "provenance": []
    },
    "kernelspec": {
      "name": "python3",
      "display_name": "Python 3"
    },
    "language_info": {
      "name": "python"
    }
  },
  "cells": [
    {
      "cell_type": "code",
      "execution_count": null,
      "metadata": {
        "id": "xDkSmDZgs6zq"
      },
      "outputs": [],
      "source": [
        "def welcome(name,marks):\n",
        "  print(\" hello \"+name+\" you have \"+str(marks)+\" marks in python \")"
      ]
    },
    {
      "cell_type": "code",
      "source": [
        "welcome(\"nishant\",70)"
      ],
      "metadata": {
        "colab": {
          "base_uri": "https://localhost:8080/"
        },
        "id": "WFW1mLh6tAPv",
        "outputId": "df6ea6a5-322f-4018-c847-e19b2cc62b6b"
      },
      "execution_count": null,
      "outputs": [
        {
          "output_type": "stream",
          "name": "stdout",
          "text": [
            " hello nishant you have 70 marks in python \n"
          ]
        }
      ]
    },
    {
      "cell_type": "code",
      "source": [
        "def welcome(name,marks=65):\n",
        "  print(\" hello \"+name+\" you have \"+str(marks)+\" marks in python \")"
      ],
      "metadata": {
        "id": "AIKMB3cNtCsE"
      },
      "execution_count": null,
      "outputs": []
    },
    {
      "cell_type": "code",
      "source": [
        "welcome(\"nishant\")"
      ],
      "metadata": {
        "colab": {
          "base_uri": "https://localhost:8080/"
        },
        "id": "YbTWyQRNtFdl",
        "outputId": "3d192e0a-4d7a-45b5-8bd7-710d38e86689"
      },
      "execution_count": null,
      "outputs": [
        {
          "output_type": "stream",
          "name": "stdout",
          "text": [
            " hello nishant you have 65 marks in python \n"
          ]
        }
      ]
    },
    {
      "cell_type": "code",
      "source": [
        "welcome(\"\")\n"
      ],
      "metadata": {
        "colab": {
          "base_uri": "https://localhost:8080/"
        },
        "id": "GxJZN613tHFa",
        "outputId": "3edf6b6d-2b33-4029-ebfc-89d3b93f753c"
      },
      "execution_count": null,
      "outputs": [
        {
          "output_type": "stream",
          "name": "stdout",
          "text": [
            " hello  you have 65 marks in python \n"
          ]
        }
      ]
    },
    {
      "cell_type": "code",
      "source": [
        "welcome(\"nishant\",85)"
      ],
      "metadata": {
        "colab": {
          "base_uri": "https://localhost:8080/"
        },
        "id": "QKn3IUFVtIxG",
        "outputId": "25dee47e-23ee-41b4-94a5-0ea225705504"
      },
      "execution_count": null,
      "outputs": [
        {
          "output_type": "stream",
          "name": "stdout",
          "text": [
            " hello nishant you have 85 marks in python \n"
          ]
        }
      ]
    },
    {
      "cell_type": "code",
      "source": [
        "def my_function(*students):\n",
        "  print(\"The youngest student is \" + students[2])\n",
        "\n",
        "my_function(\"nishant\", \"gaurav\", \"aashish\")"
      ],
      "metadata": {
        "colab": {
          "base_uri": "https://localhost:8080/"
        },
        "id": "Apn7o-aktQsB",
        "outputId": "1eed3d0c-efc6-4974-f312-a937dd3ba3e7"
      },
      "execution_count": null,
      "outputs": [
        {
          "output_type": "stream",
          "name": "stdout",
          "text": [
            "The youngest student is aashish\n"
          ]
        }
      ]
    },
    {
      "cell_type": "markdown",
      "source": [
        "##Keyword Arguments\n"
      ],
      "metadata": {
        "id": "xBfwtunRtl1I"
      }
    },
    {
      "cell_type": "code",
      "source": [
        "def my_function(student3, student2, student1):\n",
        "  print(\"The youngest student is \" + student3)\n",
        "\n",
        "my_function(student1 = \"nishant\", student2 = \"luv\", student3 = \"gaurav\")"
      ],
      "metadata": {
        "colab": {
          "base_uri": "https://localhost:8080/"
        },
        "id": "B3OgNPy3taiC",
        "outputId": "ac423c14-5552-4209-c0fb-49241cc1e8c4"
      },
      "execution_count": null,
      "outputs": [
        {
          "output_type": "stream",
          "name": "stdout",
          "text": [
            "The youngest student is gaurav\n"
          ]
        }
      ]
    },
    {
      "cell_type": "markdown",
      "source": [
        "#Arbitrary Keyword Arguments, **kwargs"
      ],
      "metadata": {
        "id": "MmCRHZuPt9_M"
      }
    },
    {
      "cell_type": "code",
      "source": [
        "def my_function(**student):\n",
        "  print(\"His last name is \" + student[\"lname\"])\n",
        "\n",
        "my_function(fname = \"nishant\", lname = \"aashish\")"
      ],
      "metadata": {
        "colab": {
          "base_uri": "https://localhost:8080/"
        },
        "id": "vqmPgrput3wO",
        "outputId": "01489ef3-b52a-4bbd-b463-7566e0d43951"
      },
      "execution_count": null,
      "outputs": [
        {
          "output_type": "stream",
          "name": "stdout",
          "text": [
            "His last name is aashish\n"
          ]
        }
      ]
    },
    {
      "cell_type": "code",
      "source": [],
      "metadata": {
        "id": "-1wJdS3-uJER"
      },
      "execution_count": null,
      "outputs": []
    }
  ]
}