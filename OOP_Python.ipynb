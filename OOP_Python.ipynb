{
  "cells": [
    {
      "cell_type": "code",
      "execution_count": null,
      "metadata": {
        "id": "LbVsbLiqua1U"
      },
      "outputs": [],
      "source": [
        "#Object-Class\n",
        "\n",
        "class Atm:\n",
        "    def __init__(self):\n",
        "        self.pin=\" \"\n",
        "        self.balance=0\n",
        "\n",
        "        self.menu()\n",
        "\n",
        "    def menu(self):\n",
        "        user_input= input(\"\"\"\n",
        "                             Hello Welcome to Bank\n",
        "                               1. Enter 1 to create pin\n",
        "                               2. Enter 2 to deposit\n",
        "                               3.Enter 3 to withdraw\n",
        "                               4.Enter 4 to check balance\n",
        "                               5.Enter 5 to exit\n",
        "                            \"\"\")\n",
        "        if user_input==\"1\":\n",
        "                self.create_pin()\n",
        "        elif user_input== \"2\":\n",
        "                print(\"withdraw\")\n",
        "        elif user_input== \"3\":\n",
        "                print(\"deposit\")\n",
        "        elif user_input== \"4\":\n",
        "                    print(\"balance\")\n",
        "        else:\n",
        "                print(\"exit\")\n",
        "\n",
        "    def create_pin(self):\n",
        "        self.pin= input(\"enter your pin\")\n",
        "        print(\"pin set successfully\")"
      ]
    },
    {
      "cell_type": "code",
      "execution_count": null,
      "metadata": {
        "colab": {
          "base_uri": "https://localhost:8080/"
        },
        "id": "5kxuC186ApBh",
        "outputId": "a9d78250-24df-4640-9495-b6291ea3a65b"
      },
      "outputs": [
        {
          "output_type": "stream",
          "name": "stdout",
          "text": [
            "\n",
            "                             Hello Welcome to Bank\n",
            "                               1. Enter 1 to create pin\n",
            "                               2. Enter 2 to deposit\n",
            "                               3.Enter 3 to withdraw\n",
            "                               4.Enter 4 to check balance\n",
            "                               5.Enter 5 to exit\n",
            "                            1234\n",
            "exit\n"
          ]
        }
      ],
      "source": [
        "hdfc=Atm()"
      ]
    },
    {
      "cell_type": "code",
      "execution_count": null,
      "metadata": {
        "id": "76IAiCrBshyW"
      },
      "outputs": [],
      "source": [
        "class Atm:\n",
        "\n",
        "  # constructor(special function)\n",
        "  def __init__(self):\n",
        "    #print(id(self))\n",
        "    self.pin = ''\n",
        "    self.balance = 0\n",
        "    self.menu()\n",
        "\n",
        "  def menu(self):\n",
        "    user_input = input(\"\"\"\n",
        "    Hi how can I help you?\n",
        "    1. Press 1 to create pin\n",
        "    2. Press 2 to change pin\n",
        "    3. Press 3 to check balance\n",
        "    4. Press 4 to withdraw\n",
        "    5. Anything else to exit\n",
        "    \"\"\")\n",
        "\n",
        "    if user_input == '1':\n",
        "      self.create_pin()\n",
        "    elif user_input == '2':\n",
        "      self.change_pin()\n",
        "    elif user_input == '3':\n",
        "      self.check_balance()\n",
        "    elif user_input == '4':\n",
        "      self.withdraw()\n",
        "    else:\n",
        "      exit()\n",
        "\n",
        "  def create_pin(self):\n",
        "    user_pin = input('enter your pin')\n",
        "    self.pin = user_pin\n",
        "\n",
        "    user_balance = int(input('enter balance'))\n",
        "    self.balance = user_balance\n",
        "\n",
        "    print('pin created successfully')\n",
        "    self.menu()\n",
        "\n",
        "  def change_pin():\n",
        "    old_pin = input('enter old pin')\n",
        "\n",
        "    if old_pin == self.pin:\n",
        "      # let him change the pin\n",
        "      new_pin = input('enter new pin')\n",
        "      self.pin = new_pin\n",
        "      print('pin change successful')\n",
        "      self.menu()\n",
        "    else:\n",
        "      print('not possible changing pin')\n",
        "      self.menu()\n",
        "\n",
        "  def check_balance(self):\n",
        "    user_pin = input('enter your pin')\n",
        "    if user_pin == self.pin:\n",
        "      print('your balance is ',self.balance)\n",
        "    else:\n",
        "      print('No Balance')\n",
        "\n",
        "  def withdraw(self):\n",
        "    user_pin = input('enter the pin')\n",
        "    if user_pin == self.pin:\n",
        "      # allow to withdraw\n",
        "      amount = int(input('enter the amount'))\n",
        "      if amount <= self.balance:\n",
        "        self.balance = self.balance - amount\n",
        "        print('withdrawl successful.balance is',self.balance)\n",
        "      else:\n",
        "        print('Withdrawal not possible')\n",
        "    else:\n",
        "      print('Wrong Pin')\n",
        "    self.menu()\n",
        "\n",
        "\n"
      ]
    },
    {
      "cell_type": "code",
      "execution_count": null,
      "metadata": {
        "colab": {
          "base_uri": "https://localhost:8080/"
        },
        "id": "1uQheCJwiuC_",
        "outputId": "3aa95e98-aa93-4e8e-9cd3-a5392003e26c"
      },
      "outputs": [
        {
          "output_type": "stream",
          "name": "stdout",
          "text": [
            "\n",
            "    Hi how can I help you?\n",
            "    1. Press 1 to create pin\n",
            "    2. Press 2 to change pin\n",
            "    3. Press 3 to check balance\n",
            "    4. Press 4 to withdraw\n",
            "    5. Anything else to exit\n",
            "    1\n",
            "enter your pin123\n",
            "enter balance10000\n",
            "pin created successfully\n",
            "\n",
            "    Hi how can I help you?\n",
            "    1. Press 1 to create pin\n",
            "    2. Press 2 to change pin\n",
            "    3. Press 3 to check balance\n",
            "    4. Press 4 to withdraw\n",
            "    5. Anything else to exit\n",
            "    3\n",
            "enter your pin123\n",
            "your balance is  10000\n"
          ]
        }
      ],
      "source": [
        "sbi=Atm()"
      ]
    },
    {
      "cell_type": "code",
      "execution_count": null,
      "metadata": {
        "id": "nfVoZ10MjnZH"
      },
      "outputs": [],
      "source": [
        "# Inheritance"
      ]
    },
    {
      "cell_type": "code",
      "source": [
        "class Car:\n",
        "   def __init__(self,windows,doors,enginetype):\n",
        "        self.windows=windows\n",
        "        self.doors=doors\n",
        "        self.enginetype=enginetype\n",
        "\n",
        "\n",
        "   def driving(self):\n",
        "     print(\"Car is used for driving\")\n",
        "\n",
        "\n",
        "  # Audi Car is inheriting from Car Class\n",
        "class Audi(Car):\n",
        "        def __init__(self,windows,doors,enginetype,horsepower):\n",
        "            super().__init__(windows,doors,enginetype)\n",
        "            self.horsepower=horsepower\n",
        "\n",
        "\n",
        "audiq7=Audi(4,5,\"Diesel\",200)\n",
        "\n",
        "print(audiq7.horsepower)\n",
        "\n",
        "print(audiq7.doors)\n",
        "audiq7.driving()\n",
        "\n",
        "car1=Car(6,7,\"Petrol\")\n",
        "\n",
        "\n",
        "print(car1)\n",
        "print(audiq7)\n",
        "\n",
        "\n",
        "print(dir(car1))\n",
        "print(dir(audiq7))\n",
        "\n"
      ],
      "metadata": {
        "colab": {
          "base_uri": "https://localhost:8080/"
        },
        "id": "FfhnD_Qsw6gu",
        "outputId": "cc90a857-647c-4724-a7b2-da6da6b80295"
      },
      "execution_count": null,
      "outputs": [
        {
          "output_type": "stream",
          "name": "stdout",
          "text": [
            "200\n",
            "5\n",
            "Car is used for driving\n",
            "<__main__.Car object at 0x7f9ab9c75e40>\n",
            "<__main__.Audi object at 0x7f9ab9c76cb0>\n",
            "['__class__', '__delattr__', '__dict__', '__dir__', '__doc__', '__eq__', '__format__', '__ge__', '__getattribute__', '__gt__', '__hash__', '__init__', '__init_subclass__', '__le__', '__lt__', '__module__', '__ne__', '__new__', '__reduce__', '__reduce_ex__', '__repr__', '__setattr__', '__sizeof__', '__str__', '__subclasshook__', '__weakref__', 'doors', 'driving', 'enginetype', 'windows']\n",
            "['__class__', '__delattr__', '__dict__', '__dir__', '__doc__', '__eq__', '__format__', '__ge__', '__getattribute__', '__gt__', '__hash__', '__init__', '__init_subclass__', '__le__', '__lt__', '__module__', '__ne__', '__new__', '__reduce__', '__reduce_ex__', '__repr__', '__setattr__', '__sizeof__', '__str__', '__subclasshook__', '__weakref__', 'doors', 'driving', 'enginetype', 'horsepower', 'windows']\n"
          ]
        }
      ]
    },
    {
      "cell_type": "code",
      "source": [
        "class Car:\n",
        "    def __init__(self,windows,doors,enginetype):\n",
        "        self.windows=windows\n",
        "        self.doors=doors\n",
        "        self.enginetype=enginetype\n",
        "\n",
        "    def driving(self):\n",
        "        print(\"Car is used for driving\")\n",
        "\n",
        "##Audi car is inherting from Car class\n",
        "class Audi(Car):\n",
        "    def __init__(self,windows,doors,enginetype,horsepower):\n",
        "        super().__init__(windows,doors,enginetype)\n",
        "        self.horsepower=horsepower\n",
        "\n",
        "    def selfdriving(self):\n",
        "        print(\"IT is a self driving car\")\n",
        "\n",
        "\n",
        "audiq7=Audi(4,5,\"Diesel\",200)\n",
        "\n",
        "print(audiq7.horsepower)\n",
        "print(audiq7.windows)\n",
        "audiq7.driving()\n",
        "audiq7.selfdriving()"
      ],
      "metadata": {
        "colab": {
          "base_uri": "https://localhost:8080/"
        },
        "id": "-DRSrgTQ1puu",
        "outputId": "f2a3d03a-6654-4f64-ba20-9c847c7a3b0d"
      },
      "execution_count": null,
      "outputs": [
        {
          "output_type": "stream",
          "name": "stdout",
          "text": [
            "200\n",
            "4\n",
            "Car is ued for driving\n",
            "IT is a self driving car\n"
          ]
        }
      ]
    }
  ],
  "metadata": {
    "colab": {
      "provenance": []
    },
    "kernelspec": {
      "display_name": "Python 3",
      "name": "python3"
    },
    "language_info": {
      "name": "python"
    }
  },
  "nbformat": 4,
  "nbformat_minor": 0
}