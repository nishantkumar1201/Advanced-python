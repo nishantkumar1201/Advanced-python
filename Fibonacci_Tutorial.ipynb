{
  "cells": [
    {
      "cell_type": "markdown",
      "metadata": {
        "id": "1iavl3OJjsKV"
      },
      "source": [
        "# 🧮 Fibonacci Series in Python\n",
        "Explore different ways to compute the Fibonacci sequence using Python."
      ],
      "id": "1iavl3OJjsKV"
    },
    {
      "cell_type": "markdown",
      "metadata": {
        "id": "oZDzAMRMjsKY"
      },
      "source": [
        "## 📌 What is the Fibonacci Sequence?\n",
        "The Fibonacci sequence is a series of numbers where each number is the sum of the two preceding ones. It starts from 0 and 1.\n",
        "\n",
        "Sequence: 0, 1, 1, 2, 3, 5, 8, 13, ..."
      ],
      "id": "oZDzAMRMjsKY"
    },
    {
      "cell_type": "code",
      "execution_count": null,
      "metadata": {
        "id": "ch-8tfdqjsKZ"
      },
      "outputs": [],
      "source": [
        "# 🔁 Method 1: Recursive Approach\n",
        "def fibonacci_recursive(n):\n",
        "    if n <= 0:\n",
        "        return 0\n",
        "    elif n == 1:\n",
        "        return 1\n",
        "    return fibonacci_recursive(n-1) + fibonacci_recursive(n-2)\n",
        "\n",
        "print(\"Fibonacci(6) using recursion:\", fibonacci_recursive(6))  # Output: 8"
      ],
      "id": "ch-8tfdqjsKZ"
    },
    {
      "cell_type": "code",
      "execution_count": null,
      "metadata": {
        "id": "8D0uC-lbjsKa"
      },
      "outputs": [],
      "source": [
        "# 🔁 Method 2: Iterative Approach\n",
        "def fibonacci_iterative(n):\n",
        "    a, b = 0, 1\n",
        "    for _ in range(n):\n",
        "        a, b = b, a + b\n",
        "    return a\n",
        "\n",
        "print(\"Fibonacci(6) using iteration:\", fibonacci_iterative(6))  # Output: 8"
      ],
      "id": "8D0uC-lbjsKa"
    },
    {
      "cell_type": "code",
      "execution_count": null,
      "metadata": {
        "id": "Dz4A7b77jsKb"
      },
      "outputs": [],
      "source": [
        "# ⚡ Method 3: Dynamic Programming (Memoization)\n",
        "def fibonacci_memo(n, memo={}):\n",
        "    if n in memo:\n",
        "        return memo[n]\n",
        "    if n <= 0:\n",
        "        return 0\n",
        "    elif n == 1:\n",
        "        return 1\n",
        "    memo[n] = fibonacci_memo(n-1, memo) + fibonacci_memo(n-2, memo)\n",
        "    return memo[n]\n",
        "\n",
        "print(\"Fibonacci(6) using memoization:\", fibonacci_memo(6))  # Output: 8"
      ],
      "id": "Dz4A7b77jsKb"
    },
    {
      "cell_type": "markdown",
      "metadata": {
        "id": "6c3k_Lg3jsKb"
      },
      "source": [
        "## ✅ Summary\n",
        "- Recursive method is simple but inefficient for large `n`.\n",
        "- Iterative method is efficient and easy to understand.\n",
        "- Memoization avoids repeated calculations and is best for large inputs in recursion."
      ],
      "id": "6c3k_Lg3jsKb"
    }
  ],
  "metadata": {
    "colab": {
      "provenance": []
    },
    "kernelspec": {
      "display_name": "Python 3",
      "language": "python",
      "name": "python3"
    },
    "language_info": {
      "name": "python"
    }
  },
  "nbformat": 4,
  "nbformat_minor": 5
}