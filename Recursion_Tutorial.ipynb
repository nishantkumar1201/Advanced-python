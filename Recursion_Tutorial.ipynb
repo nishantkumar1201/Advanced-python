{
  "cells": [
    {
      "cell_type": "markdown",
      "metadata": {
        "id": "NE5hyCM5XYAK"
      },
      "source": [
        "# 🌀 Recursion in Python\n",
        "Learn the basics of recursion with examples."
      ],
      "id": "NE5hyCM5XYAK"
    },
    {
      "cell_type": "code",
      "execution_count": null,
      "metadata": {
        "id": "jv-b6FxOXYAP",
        "outputId": "be4f4428-b9ed-4333-9d20-d50c7373f122",
        "colab": {
          "base_uri": "https://localhost:8080/"
        }
      },
      "outputs": [
        {
          "output_type": "stream",
          "name": "stdout",
          "text": [
            "Factorial of 5: 120\n"
          ]
        }
      ],
      "source": [
        "# 🔁 Example 1: Factorial using Recursion\n",
        "def factorial(n):\n",
        "    if n == 0 or n == 1:\n",
        "        return 1\n",
        "    return n * factorial(n - 1)\n",
        "\n",
        "print(\"Factorial of 5:\", factorial(5))  # Output: 120"
      ],
      "id": "jv-b6FxOXYAP"
    },
    {
      "cell_type": "code",
      "execution_count": null,
      "metadata": {
        "id": "xzQDZYmTXYAQ",
        "outputId": "108d3fff-b6eb-4531-d7bf-307e74d72073",
        "colab": {
          "base_uri": "https://localhost:8080/"
        }
      },
      "outputs": [
        {
          "output_type": "stream",
          "name": "stdout",
          "text": [
            "Fibonacci of 6: 8\n"
          ]
        }
      ],
      "source": [
        "# 🔁 Example 2: Fibonacci using Recursion\n",
        "def fibonacci(n):\n",
        "    if n <= 0:\n",
        "        return 0\n",
        "    elif n == 1:\n",
        "        return 1\n",
        "    return fibonacci(n-1) + fibonacci(n-2)\n",
        "\n",
        "print(\"Fibonacci of 6:\", fibonacci(6))  # Output: 8"
      ],
      "id": "xzQDZYmTXYAQ"
    },
    {
      "cell_type": "code",
      "execution_count": null,
      "metadata": {
        "id": "iTmG0ZGHXYAR",
        "outputId": "c02ee452-f297-4198-e600-616bbc0a91fd",
        "colab": {
          "base_uri": "https://localhost:8080/"
        }
      },
      "outputs": [
        {
          "output_type": "stream",
          "name": "stdout",
          "text": [
            "Recursive sum of list: 15\n"
          ]
        }
      ],
      "source": [
        "# 🔁 Example 3: Sum of elements in a list using Recursion\n",
        "def recursive_sum(lst):\n",
        "    if not lst:\n",
        "        return 0\n",
        "    return lst[0] + recursive_sum(lst[1:])\n",
        "\n",
        "sample_list = [1, 2, 3, 4, 5]\n",
        "print(\"Recursive sum of list:\", recursive_sum(sample_list))  # Output: 15"
      ],
      "id": "iTmG0ZGHXYAR"
    },
    {
      "cell_type": "markdown",
      "metadata": {
        "id": "CO2g_PkcXYAR"
      },
      "source": [
        "## ⚠️ Important Notes\n",
        "- Always define a **base case** to avoid infinite recursion.\n",
        "- Python has a default recursion depth limit (~1000 calls). You can change it using `sys.setrecursionlimit()` if needed."
      ],
      "id": "CO2g_PkcXYAR"
    },
    {
      "cell_type": "code",
      "source": [
        "def tri_recursion(k):\n",
        "  if(k > 0):\n",
        "    result = k + tri_recursion(k - 1)\n",
        "    print(result)\n",
        "  else:\n",
        "    result = 0\n",
        "  return result\n",
        "\n",
        "print(\"Recursion Example Results:\")\n",
        "tri_recursion(6)"
      ],
      "metadata": {
        "colab": {
          "base_uri": "https://localhost:8080/"
        },
        "id": "iS0SlimQt2yp",
        "outputId": "a1d62d25-7f39-4cd2-e6b0-da7039be029f"
      },
      "id": "iS0SlimQt2yp",
      "execution_count": null,
      "outputs": [
        {
          "output_type": "stream",
          "name": "stdout",
          "text": [
            "Recursion Example Results:\n",
            "1\n",
            "3\n",
            "6\n",
            "10\n",
            "15\n",
            "21\n"
          ]
        },
        {
          "output_type": "execute_result",
          "data": {
            "text/plain": [
              "21"
            ]
          },
          "metadata": {},
          "execution_count": 1
        }
      ]
    },
    {
      "cell_type": "code",
      "source": [
        "def factorial(x):\n",
        "    \"\"\"This is a recursive function\n",
        "    to find the factorial of an integer\"\"\"\n",
        "\n",
        "    if x == 1:\n",
        "        return 1\n",
        "    else:\n",
        "        return (x * factorial(x-1))\n",
        "\n",
        "\n",
        "num = 3\n",
        "print(\"The factorial of\", num, \"is\", factorial(num))"
      ],
      "metadata": {
        "colab": {
          "base_uri": "https://localhost:8080/"
        },
        "id": "jusXtQm7t5qR",
        "outputId": "b6bf0d10-2180-4c1f-f2fc-8c3d3181628b"
      },
      "id": "jusXtQm7t5qR",
      "execution_count": null,
      "outputs": [
        {
          "output_type": "stream",
          "name": "stdout",
          "text": [
            "The factorial of 3 is 6\n"
          ]
        }
      ]
    },
    {
      "cell_type": "code",
      "source": [
        "def factorial(n):\n",
        "    if n == 1:\n",
        "        return 1\n",
        "    else:\n",
        "        return n * factorial(n-1)\n",
        "\n",
        "print(factorial(5))"
      ],
      "metadata": {
        "colab": {
          "base_uri": "https://localhost:8080/"
        },
        "id": "eRiwURI2t_S9",
        "outputId": "71e22f21-e2fc-43e6-d310-157f442b8c51"
      },
      "id": "eRiwURI2t_S9",
      "execution_count": null,
      "outputs": [
        {
          "output_type": "stream",
          "name": "stdout",
          "text": [
            "120\n"
          ]
        }
      ]
    },
    {
      "cell_type": "code",
      "source": [
        "def fibonacci(n):\n",
        "    # Base cases\n",
        "    if n == 0:\n",
        "        return 0\n",
        "    elif n == 1:\n",
        "        return 1\n",
        "    # Recursive case\n",
        "    else:\n",
        "        return fibonacci(n-1) + fibonacci(n-2)\n",
        "\n",
        "# Example usage\n",
        "print(fibonacci(10))"
      ],
      "metadata": {
        "colab": {
          "base_uri": "https://localhost:8080/"
        },
        "id": "bVMbcIzguBdt",
        "outputId": "3bd456b9-4d86-4f22-c70d-e54abfcae6e1"
      },
      "id": "bVMbcIzguBdt",
      "execution_count": null,
      "outputs": [
        {
          "output_type": "stream",
          "name": "stdout",
          "text": [
            "55\n"
          ]
        }
      ]
    },
    {
      "cell_type": "code",
      "source": [
        "def tail_fact(n, acc=1):\n",
        "    # Base case\n",
        "    if n == 0:\n",
        "        return acc\n",
        "    # Tail recursive call with an accumulator\n",
        "    else:\n",
        "        return tail_fact(n-1, acc * n)\n",
        "\n",
        "def nontail_fact(n):\n",
        "    # Base case\n",
        "    if n == 1:\n",
        "        return 1\n",
        "    # Non-tail recursive call because the multiplication happens after the call\n",
        "    else:\n",
        "        return n * nontail_fact(n-1)\n",
        "\n",
        "# Example usage\n",
        "print(tail_fact(5))\n",
        "print(nontail_fact(5))"
      ],
      "metadata": {
        "colab": {
          "base_uri": "https://localhost:8080/"
        },
        "id": "TXqDipLDuDO3",
        "outputId": "6ae63329-31b5-4256-c8f4-d239fbd21b99"
      },
      "id": "TXqDipLDuDO3",
      "execution_count": null,
      "outputs": [
        {
          "output_type": "stream",
          "name": "stdout",
          "text": [
            "120\n",
            "120\n"
          ]
        }
      ]
    },
    {
      "cell_type": "code",
      "source": [
        "def factorial(n):\n",
        "    if n in (0, 1):  # Base case\n",
        "        return 1\n",
        "    else:\n",
        "        return n * factorial(n - 1)\n",
        "\n",
        "print(factorial(5))  # Output: 120"
      ],
      "metadata": {
        "colab": {
          "base_uri": "https://localhost:8080/"
        },
        "id": "2EA45XUmuFMC",
        "outputId": "75f43c96-1c7c-4df0-fead-e4216a2e6513"
      },
      "id": "2EA45XUmuFMC",
      "execution_count": null,
      "outputs": [
        {
          "output_type": "stream",
          "name": "stdout",
          "text": [
            "120\n"
          ]
        }
      ]
    },
    {
      "cell_type": "code",
      "source": [
        "import math\n",
        "\n",
        "print(math.factorial(5))"
      ],
      "metadata": {
        "colab": {
          "base_uri": "https://localhost:8080/"
        },
        "id": "670vo3yJuHc0",
        "outputId": "87b2b63c-4757-4ff8-f2e2-c5a58d9dab8c"
      },
      "id": "670vo3yJuHc0",
      "execution_count": null,
      "outputs": [
        {
          "output_type": "stream",
          "name": "stdout",
          "text": [
            "120\n"
          ]
        }
      ]
    },
    {
      "cell_type": "code",
      "source": [],
      "metadata": {
        "id": "2kUKcbGWuJE7"
      },
      "id": "2kUKcbGWuJE7",
      "execution_count": null,
      "outputs": []
    }
  ],
  "metadata": {
    "colab": {
      "provenance": []
    },
    "kernelspec": {
      "display_name": "Python 3",
      "language": "python",
      "name": "python3"
    },
    "language_info": {
      "name": "python"
    }
  },
  "nbformat": 4,
  "nbformat_minor": 5
}