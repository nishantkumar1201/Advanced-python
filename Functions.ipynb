{
  "nbformat": 4,
  "nbformat_minor": 0,
  "metadata": {
    "colab": {
      "provenance": []
    },
    "kernelspec": {
      "name": "python3",
      "display_name": "Python 3"
    },
    "language_info": {
      "name": "python"
    }
  },
  "cells": [
    {
      "cell_type": "code",
      "execution_count": null,
      "metadata": {
        "id": "SLOZucNG4ibl"
      },
      "outputs": [],
      "source": [
        "`#A function is a block of code which only runs when it is called.\n",
        "#Functions help in organizing code,reusing code and improving readability.\n",
        "#You can pass data, known as parameters, into a function.\n",
        "#A function can return data as a result."
      ]
    },
    {
      "cell_type": "code",
      "source": [
        "# a function is defined using the def keyword:\n",
        "def my_function():\n",
        "\n",
        "      print(\"Hello from a function\")\n",
        "my_function()"
      ],
      "metadata": {
        "id": "tvROSdS26qOm",
        "colab": {
          "base_uri": "https://localhost:8080/"
        },
        "outputId": "9f581e68-7edf-418e-9f79-c19343a2eb5f"
      },
      "execution_count": null,
      "outputs": [
        {
          "output_type": "stream",
          "name": "stdout",
          "text": [
            "Hello from a function\n"
          ]
        }
      ]
    },
    {
      "cell_type": "code",
      "source": [
        "#calling Function\n",
        "my_function()"
      ],
      "metadata": {
        "colab": {
          "base_uri": "https://localhost:8080/"
        },
        "id": "msy81MfF713B",
        "outputId": "af0c3ea8-ccfb-4f7d-d43b-7ff13d02cd87"
      },
      "execution_count": null,
      "outputs": [
        {
          "output_type": "stream",
          "name": "stdout",
          "text": [
            "Hello from a function\n"
          ]
        }
      ]
    },
    {
      "cell_type": "code",
      "source": [
        "#Arguments\n",
        "#Information can be passed into functions as arguments.\n",
        "#Arguments are specified after the function name, inside the parentheses.\n",
        "def my_function(doland):\n",
        "  print(doland + \" Trump\")\n",
        "\n",
        "my_function(\"Donald\")\n"
      ],
      "metadata": {
        "colab": {
          "base_uri": "https://localhost:8080/"
        },
        "id": "Ga6NJrP58VfT",
        "outputId": "70a84ac8-2e59-4707-b188-e5b43263ba07"
      },
      "execution_count": null,
      "outputs": [
        {
          "output_type": "stream",
          "name": "stdout",
          "text": [
            "Donald Trump\n"
          ]
        }
      ]
    },
    {
      "cell_type": "code",
      "source": [
        "my_function(\"Melliania\")"
      ],
      "metadata": {
        "colab": {
          "base_uri": "https://localhost:8080/"
        },
        "id": "aVXy4Ge1IDgE",
        "outputId": "c5d16ccb-0f36-4db9-ae6e-827ca505eda9"
      },
      "execution_count": null,
      "outputs": [
        {
          "output_type": "stream",
          "name": "stdout",
          "text": [
            "Melliania Trump\n"
          ]
        }
      ]
    },
    {
      "cell_type": "code",
      "source": [
        "#Parameters or Arguments\n",
        "# A parameter is the variable listed inside the parentheses in the function definition.\n",
        "\n",
        "# An argument is the value that is sent to the function when it is called.\n"
      ],
      "metadata": {
        "id": "gBsFP5FV9DT0"
      },
      "execution_count": null,
      "outputs": []
    },
    {
      "cell_type": "code",
      "source": [
        "#Syntax with return statement:\n",
        "def function_name(parameters):\n",
        "    #Function body\n",
        "    return expression"
      ],
      "metadata": {
        "id": "Zil69F9EC7d3"
      },
      "execution_count": null,
      "outputs": []
    },
    {
      "cell_type": "code",
      "source": [
        "def even_odd(num):\n",
        "     if num%2==0:\n",
        "      print(\"the number is even\")\n",
        "     else:\n",
        "       print(\"the number is odd\")"
      ],
      "metadata": {
        "id": "HxxXwSITDSgc"
      },
      "execution_count": null,
      "outputs": []
    },
    {
      "cell_type": "code",
      "source": [
        "#call this function\n",
        "even_odd(24)"
      ],
      "metadata": {
        "colab": {
          "base_uri": "https://localhost:8080/"
        },
        "id": "ynhkdg41D_c2",
        "outputId": "e5b7c341-deb1-4d70-967c-db50632eac6b"
      },
      "execution_count": null,
      "outputs": [
        {
          "output_type": "stream",
          "name": "stdout",
          "text": [
            "the number is even\n"
          ]
        }
      ]
    },
    {
      "cell_type": "code",
      "source": [
        "# Function with multiple parameters\n",
        "def add(a,b):\n",
        "    return a+b\n",
        "\n",
        "add(2,3)"
      ],
      "metadata": {
        "colab": {
          "base_uri": "https://localhost:8080/"
        },
        "id": "GLwG1TkREEiE",
        "outputId": "7adc3ed8-228f-4004-d4cf-bebb09d65ec8"
      },
      "execution_count": null,
      "outputs": [
        {
          "output_type": "execute_result",
          "data": {
            "text/plain": [
              "5"
            ]
          },
          "metadata": {},
          "execution_count": 6
        }
      ]
    },
    {
      "cell_type": "code",
      "source": [
        "add(4,5)"
      ],
      "metadata": {
        "id": "5q0mJvx3J2_0",
        "outputId": "0d611c5c-aa1e-4f1b-fd5a-fb60e3878c4d",
        "colab": {
          "base_uri": "https://localhost:8080/"
        }
      },
      "execution_count": null,
      "outputs": [
        {
          "output_type": "execute_result",
          "data": {
            "text/plain": [
              "9"
            ]
          },
          "metadata": {},
          "execution_count": 12
        }
      ]
    },
    {
      "cell_type": "code",
      "source": [
        "# Function can return multiple values\n",
        "def add(a,b):\n",
        "    return a+b,a\n",
        "\n",
        "add(2,4)"
      ],
      "metadata": {
        "colab": {
          "base_uri": "https://localhost:8080/"
        },
        "id": "8mBvowq7FhmU",
        "outputId": "60c08d7d-0833-47ad-9b3f-ae02ea37eacc"
      },
      "execution_count": null,
      "outputs": [
        {
          "output_type": "execute_result",
          "data": {
            "text/plain": [
              "(6, 2)"
            ]
          },
          "metadata": {},
          "execution_count": 7
        }
      ]
    },
    {
      "cell_type": "code",
      "source": [
        "# Write a function to swap two numbers without using third variable.\n",
        "def swap(a,b):\n",
        "    a,b=b,a\n",
        "    print(a)\n",
        "    print(b)\n"
      ],
      "metadata": {
        "id": "QcSQ3C-bIcLr"
      },
      "execution_count": null,
      "outputs": []
    },
    {
      "cell_type": "code",
      "source": [
        "swap(2,4)"
      ],
      "metadata": {
        "colab": {
          "base_uri": "https://localhost:8080/"
        },
        "id": "uINkjJl6KmWZ",
        "outputId": "c9d76022-e592-4d53-fd11-80828ffd9612"
      },
      "execution_count": null,
      "outputs": [
        {
          "output_type": "stream",
          "name": "stdout",
          "text": [
            "4\n",
            "2\n"
          ]
        }
      ]
    },
    {
      "cell_type": "code",
      "source": [
        "# Write a function to swap two numbers using third variable.\n",
        "def swap(a,b):\n",
        "   temp=a\n",
        "   a=b\n",
        "   b=temp\n",
        "   print(a)\n",
        "   print(b)"
      ],
      "metadata": {
        "id": "DKWreHJSKqmY"
      },
      "execution_count": null,
      "outputs": []
    },
    {
      "cell_type": "code",
      "source": [
        "swap(3,7)"
      ],
      "metadata": {
        "colab": {
          "base_uri": "https://localhost:8080/"
        },
        "id": "pTVQincrLUfq",
        "outputId": "b7c5507a-2039-49c2-ae6c-4fb6c6809527"
      },
      "execution_count": null,
      "outputs": [
        {
          "output_type": "stream",
          "name": "stdout",
          "text": [
            "7\n",
            "3\n"
          ]
        }
      ]
    }
  ]
}